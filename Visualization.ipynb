{
 "metadata": {
  "language_info": {
   "codemirror_mode": {
    "name": "ipython",
    "version": 3
   },
   "file_extension": ".py",
   "mimetype": "text/x-python",
   "name": "python",
   "nbconvert_exporter": "python",
   "pygments_lexer": "ipython3",
   "version": "3.8.8"
  },
  "orig_nbformat": 2,
  "kernelspec": {
   "name": "python3",
   "display_name": "Python 3",
   "language": "python"
  }
 },
 "nbformat": 4,
 "nbformat_minor": 2,
 "cells": [
  {
   "source": [
    "# Visualization of the intensity curve of bikes from 10 eco-meters placed in Montpellier \n",
    "\n",
    " ##### -  Our objective for this part is to visualize the intensity of the bicycles passing a contage point in 10 deferens position in Montpellier.\n",
    "\n",
    " ##### -  In our dataset, the bicycles are counted every day. we will consider the date of the end of days (which would be the start of the next day)\n",
    "\n",
    "##### -   For each count point, we will plot the intensity variation curve as a function of time (days)\n",
    "\n",
    "##### -   To achieve our goal, we start with several transformations and manipulations on the raw databases, and finish by programming a widgets in which we can choose the desired position (between the 10 count points). "
   ],
   "cell_type": "markdown",
   "metadata": {}
  },
  {
   "cell_type": "code",
   "execution_count": 1,
   "metadata": {},
   "outputs": [
    {
     "output_type": "stream",
     "name": "stdout",
     "text": [
      "3.8.8 (default, Feb 24 2021, 15:54:32) [MSC v.1928 64 bit (AMD64)]\n"
     ]
    }
   ],
   "source": [
    "import sys\n",
    "print(sys.version)"
   ]
  },
  {
   "source": [
    "\n"
   ],
   "cell_type": "markdown",
   "metadata": {}
  },
  {
   "cell_type": "code",
   "execution_count": 2,
   "metadata": {},
   "outputs": [],
   "source": [
    "import numpy as np\n",
    "import pandas as pd\n",
    "from pandas import DataFrame\n",
    "from matplotlib import pyplot as plt\n",
    "import json\n",
    "from pandas import json_normalize\n",
    "from ipywidgets import interact\n",
    "from download import download\n",
    "\n"
   ]
  },
  {
   "source": [
    "##### - Import of databases from each count point, and store them in file.\n",
    "\n",
    "Data sources: \n",
    "http://data.montpellier3m.fr/dataset/comptages-velo-et-pieton-issus-des-eco-compteurs/resource/75f5e367-99fb-482f-ba5c\n"
   ],
   "cell_type": "markdown",
   "metadata": {}
  },
  {
   "cell_type": "code",
   "execution_count": 51,
   "metadata": {},
   "outputs": [
    {
     "output_type": "stream",
     "name": "stdout",
     "text": [
      "Replace is False and data exists, so doing nothing. Use replace=True to re-download the data.\n",
      "Replace is False and data exists, so doing nothing. Use replace=True to re-download the data.\n",
      "Downloading data from https://data.montpellier3m.fr/sites/default/files/ressources/MMM_EcoCompt_X2H19070220_archive.json (29 kB)\n",
      "\n",
      "file_sizes: 100%|███████████████████████████| 29.8k/29.8k [00:00<00:00, 544kB/s]\n",
      "Successfully downloaded file to ./data_visulization/Berracasa.json\n",
      "Downloading data from https://data.montpellier3m.fr/sites/default/files/ressources/MMM_EcoCompt_X2H20042632_archive.json (28 kB)\n",
      "\n",
      "file_sizes: 100%|███████████████████████████| 28.4k/28.4k [00:00<00:00, 430kB/s]\n",
      "Successfully downloaded file to ./data_visulization/Lavérune.json\n",
      "Downloading data from https://data.montpellier3m.fr/sites/default/files/ressources/MMM_EcoCompt_X2H20042635_archive.json (28 kB)\n",
      "\n",
      "file_sizes: 100%|███████████████████████████| 28.6k/28.6k [00:00<00:00, 591kB/s]\n",
      "Successfully downloaded file to ./data_visulization/Lattes1.json\n",
      "Downloading data from https://data.montpellier3m.fr/sites/default/files/ressources/MMM_EcoCompt_X2H20063161_archive.json (28 kB)\n",
      "\n",
      "file_sizes: 100%|███████████████████████████| 29.0k/29.0k [00:00<00:00, 712kB/s]\n",
      "Successfully downloaded file to ./data_visulization/Vieille_poste.json\n",
      "Downloading data from https://data.montpellier3m.fr/sites/default/files/ressources/MMM_EcoCompt_X2H20063162_archive.json (28 kB)\n",
      "\n",
      "file_sizes: 100%|███████████████████████████| 29.0k/29.0k [00:00<00:00, 509kB/s]\n",
      "Successfully downloaded file to ./data_visulization/Gerhardt.json\n",
      "Downloading data from https://data.montpellier3m.fr/sites/default/files/ressources/MMM_EcoCompt_XTH19101158_archive.json (30 kB)\n",
      "\n",
      "file_sizes: 100%|███████████████████████████| 30.6k/30.6k [00:00<00:00, 529kB/s]\n",
      "Successfully downloaded file to ./data_visulization/Tanneurs.json\n",
      "Downloading data from https://data.montpellier3m.fr/sites/default/files/ressources/MMM_EcoCompt_X2H20063163_archive.json (23 kB)\n",
      "\n",
      "file_sizes: 100%|███████████████████████████| 23.4k/23.4k [00:00<00:00, 492kB/s]\n",
      "Successfully downloaded file to ./data_visulization/Delmas1.json\n",
      "Downloading data from https://data.montpellier3m.fr/sites/default/files/ressources/MMM_EcoCompt_X2H20063164_archive.json (24 kB)\n",
      "\n",
      "file_sizes: 100%|███████████████████████████| 24.7k/24.7k [00:00<00:00, 526kB/s]\n",
      "Successfully downloaded file to ./data_visulization/Delmas2.json\n"
     ]
    },
    {
     "output_type": "execute_result",
     "data": {
      "text/plain": [
       "'./data_visulization/Delmas2.json'"
      ]
     },
     "metadata": {},
     "execution_count": 51
    }
   ],
   "source": [
    "#Database import \n",
    "url = [\n",
    "#Celleneuve\n",
    "    'https://data.montpellier3m.fr/sites/default/files/ressources/MMM_EcoCompt_X2H20042633_archive.json',\n",
    "#Lattes 2\n",
    "    'https://data.montpellier3m.fr/sites/default/files/ressources/MMM_EcoCompt_X2H20042634_archive.json',\n",
    "#Berracasa\n",
    "    'https://data.montpellier3m.fr/sites/default/files/ressources/MMM_EcoCompt_X2H19070220_archive.json',\n",
    "#Lavérune\n",
    "    'https://data.montpellier3m.fr/sites/default/files/ressources/MMM_EcoCompt_X2H20042632_archive.json',\n",
    "#Lattes 1\n",
    "    'https://data.montpellier3m.fr/sites/default/files/ressources/MMM_EcoCompt_X2H20042635_archive.json',\n",
    "#Vieille poste\n",
    "    'https://data.montpellier3m.fr/sites/default/files/ressources/MMM_EcoCompt_X2H20063161_archive.json',\n",
    "#Gerhardt\n",
    "    'https://data.montpellier3m.fr/sites/default/files/ressources/MMM_EcoCompt_X2H20063162_archive.json',\n",
    "#Tanneurs\n",
    "    'https://data.montpellier3m.fr/sites/default/files/ressources/MMM_EcoCompt_XTH19101158_archive.json',\n",
    "#Delmas 1\n",
    "    'https://data.montpellier3m.fr/sites/default/files/ressources/MMM_EcoCompt_X2H20063163_archive.json',\n",
    "#Delmas 2\n",
    "    'https://data.montpellier3m.fr/sites/default/files/ressources/MMM_EcoCompt_X2H20063164_archive.json',\n",
    "]\n",
    "\n",
    "\n",
    "\n",
    "download(url[0], \"./data_visulization/Celleneuve.json\", replace=False)\n",
    "download(url[1], \"./data_visulization/Lattes2.json\", replace=False)\n",
    "download(url[2], \"./data_visulization/Berracasa.json\", replace=False)\n",
    "download(url[3], \"./data_visulization/Lavérune.json\", replace=False)\n",
    "download(url[4], \"./data_visulization/Lattes1.json\", replace=False)\n",
    "download(url[5], \"./data_visulization/Vieille_poste.json\", replace=False)\n",
    "download(url[6], \"./data_visulization/Gerhardt.json\", replace=False)\n",
    "download(url[7], \"./data_visulization/Tanneurs.json\", replace=False)\n",
    "download(url[8], \"./data_visulization/Delmas1.json\", replace=False)\n",
    "download(url[9], \"./data_visulization/Delmas2.json\", replace=False)\n",
    "\n"
   ]
  },
  {
   "source": [
    "##### -   Reading datasets as dataframe shape."
   ],
   "cell_type": "markdown",
   "metadata": {}
  },
  {
   "cell_type": "code",
   "execution_count": 5,
   "metadata": {},
   "outputs": [],
   "source": [
    "#Read .Json data as dataframe\n",
    "bike_traffic_df1 = pd.read_json('./data_visulization/Celleneuve.json', lines=True)\n",
    "bike_traffic_df2 = pd.read_json('./data_visulization/lattes2.json', lines=True)\n",
    "bike_traffic_df3 = pd.read_json('./data_visulization/Berracasa.json', lines=True)\n",
    "bike_traffic_df4 = pd.read_json('./data_visulization/Lavérune.json', lines=True)\n",
    "bike_traffic_df5 = pd.read_json('./data_visulization/Lattes1.json', lines=True)\n",
    "bike_traffic_df6 = pd.read_json('./data_visulization/Vieille_poste.json', lines=True)\n",
    "bike_traffic_df7 = pd.read_json('./data_visulization/Gerhardt.json', lines=True)\n",
    "bike_traffic_df8 = pd.read_json('./data_visulization/Tanneurs.json', lines=True)\n",
    "bike_traffic_df9 = pd.read_json('./data_visulization/Delmas1.json', lines=True)\n",
    "bike_traffic_df10 = pd.read_json('./data_visulization/Delmas2.json', lines=True)\n",
    "\n"
   ]
  },
  {
   "source": [
    "##### -   In this part we will extract a time series from one of the dataframe (bike_traffic_df) that contains the longest duration.\n",
    "\n",
    "##### -   The time series will be extracted from the \"dateObserved\" column, we extract the date / time of the end of the day. that allows as to visualize the intensity of bikes over time. \n"
   ],
   "cell_type": "markdown",
   "metadata": {}
  },
  {
   "cell_type": "code",
   "execution_count": 6,
   "metadata": {},
   "outputs": [],
   "source": [
    "#-------- \n",
    "from pandas import Series\n",
    "\n",
    "\n",
    "#Split 'dateObserved' column into two columns \n",
    "data_test=bike_traffic_df5.join(bike_traffic_df5['dateObserved'].apply(lambda x: Series(x.split('/'))))\n",
    "data_test=data_test.rename(columns = {0: 'start_of_day', 1: 'end_of_day'}) \n",
    "\n",
    "#replace the 'T' between date and time with a space \n",
    "data_test['end_of_day'] = data_test['end_of_day'].str.replace('T',' ')\n",
    "\n",
    "#Convert to time series \n",
    "time_improved = pd.to_datetime(data_test['end_of_day'] , format='%Y-%m-%d %H:%M:%S')               \n",
    "\n",
    "#Indexing data by 'end_of-day' (time series)\n",
    "data_test['end_of_day'] = time_improved\n",
    "data_test = data_test.set_index(['end_of_day'])"
   ]
  },
  {
   "source": [
    "##### -    In this part extract the column \"intensity\" in all the databases, and store them a new data frame. \n",
    "\n",
    "##### -   For visualization reasons we will rename the intensity columns by their count point names"
   ],
   "cell_type": "markdown",
   "metadata": {}
  },
  {
   "cell_type": "code",
   "execution_count": 51,
   "metadata": {},
   "outputs": [
    {
     "output_type": "stream",
     "name": "stdout",
     "text": [
      "            Celleneuve  Lattes2  Berracasa  Lavérune  Lattes1  Vieille_poste  \\\nstartday                                                                       \n2020-12-18        53.0    405.0      524.0      69.0    158.0          127.0   \n2020-12-19        50.0    450.0      610.0      67.0    167.0          124.0   \n2020-12-20        44.0    346.0      610.0     130.0    235.0           53.0   \n2020-12-21        31.0    283.0      435.0     119.0    152.0           48.0   \n2020-12-22        63.0    484.0      852.0     208.0    314.0          141.0   \n...                ...      ...        ...       ...      ...            ...   \n2021-03-27       110.0    645.0     1398.0     168.0    389.0          235.0   \n2021-03-28       110.0    454.0     1559.0     408.0    795.0          155.0   \n2021-03-29       112.0    425.0        NaN     537.0   1091.0          129.0   \n2021-03-30       129.0      NaN        NaN     270.0    536.0          328.0   \n2021-03-31         NaN      NaN        NaN     355.0    659.0          326.0   \n\n            Gerhardt  Tanneurs  Delmas1  Delmas2  \nstartday                                          \n2020-12-18     822.0     879.0    485.0     21.0  \n2020-12-19     857.0     971.0    537.0     28.0  \n2020-12-20     622.0     743.0    500.0     37.0  \n2020-12-21     319.0     432.0    332.0     61.0  \n2020-12-22     679.0     861.0    217.0     43.0  \n...              ...       ...      ...      ...  \n2021-03-27    1219.0    1582.0      NaN      NaN  \n2021-03-28     994.0    1291.0      NaN      NaN  \n2021-03-29     525.0     981.0      NaN      NaN  \n2021-03-30    1316.0    1698.0      NaN      NaN  \n2021-03-31    1454.0    1898.0      NaN      NaN  \n\n[104 rows x 10 columns]\n"
     ]
    }
   ],
   "source": [
    "# Rename intensity column by position name\n",
    "bike_traffic_df1=bike_traffic_df1.rename(columns = {'intensity': 'Celleneuve'})\n",
    "bike_traffic_df2=bike_traffic_df2.rename(columns = {'intensity': 'Lattes2'}) \n",
    "bike_traffic_df3=bike_traffic_df3.rename(columns = {'intensity': 'Berracasa'}) \n",
    "bike_traffic_df4=bike_traffic_df4.rename(columns = {'intensity': 'Lavérune'}) \n",
    "bike_traffic_df5=bike_traffic_df5.rename(columns = {'intensity': 'Lattes1'}) \n",
    "bike_traffic_df6=bike_traffic_df6.rename(columns = {'intensity': 'Vieille_poste'}) \n",
    "bike_traffic_df7=bike_traffic_df7.rename(columns = {'intensity': 'Gerhardt'}) \n",
    "bike_traffic_df8=bike_traffic_df8.rename(columns = {'intensity': 'Tanneurs'}) \n",
    "bike_traffic_df9=bike_traffic_df9.rename(columns = {'intensity': 'Delmas1'}) \n",
    "bike_traffic_df10=bike_traffic_df10.rename(columns = {'intensity': 'Delmas2'}) \n",
    "\n",
    "#Extract the renamed columns, and combine them into a new dataframe \n",
    "data_intensity = pd.DataFrame((bike_traffic_df1['Celleneuve'], bike_traffic_df2['Lattes2'],bike_traffic_df3['Berracasa'],bike_traffic_df4['Lavérune'],bike_traffic_df5['Lattes1'],bike_traffic_df6['Vieille_poste'],bike_traffic_df7['Gerhardt'],bike_traffic_df8['Tanneurs'],bike_traffic_df9['Delmas1'],bike_traffic_df10['Delmas2']))\n",
    "data_intensity=data_intensity.T\n",
    "\n",
    "#Indexing neww data by 'end_of-day' (time series)\n",
    "data_intensity['startday'] = time_improved\n",
    "data_intensity = data_intensity.set_index(['startday'])\n",
    "print(data_intensity )\n",
    "\n",
    "\n"
   ]
  },
  {
   "cell_type": "code",
   "execution_count": 60,
   "metadata": {},
   "outputs": [
    {
     "output_type": "error",
     "ename": "KeyError",
     "evalue": "'2021-03-27'",
     "traceback": [
      "\u001b[1;31m---------------------------------------------------------------------------\u001b[0m",
      "\u001b[1;31mKeyError\u001b[0m                                  Traceback (most recent call last)",
      "\u001b[1;32m~\\anaconda3\\envs\\HMMA238_env\\lib\\site-packages\\pandas\\core\\indexes\\base.py\u001b[0m in \u001b[0;36mget_loc\u001b[1;34m(self, key, method, tolerance)\u001b[0m\n\u001b[0;32m   3079\u001b[0m             \u001b[1;32mtry\u001b[0m\u001b[1;33m:\u001b[0m\u001b[1;33m\u001b[0m\u001b[1;33m\u001b[0m\u001b[0m\n\u001b[1;32m-> 3080\u001b[1;33m                 \u001b[1;32mreturn\u001b[0m \u001b[0mself\u001b[0m\u001b[1;33m.\u001b[0m\u001b[0m_engine\u001b[0m\u001b[1;33m.\u001b[0m\u001b[0mget_loc\u001b[0m\u001b[1;33m(\u001b[0m\u001b[0mcasted_key\u001b[0m\u001b[1;33m)\u001b[0m\u001b[1;33m\u001b[0m\u001b[1;33m\u001b[0m\u001b[0m\n\u001b[0m\u001b[0;32m   3081\u001b[0m             \u001b[1;32mexcept\u001b[0m \u001b[0mKeyError\u001b[0m \u001b[1;32mas\u001b[0m \u001b[0merr\u001b[0m\u001b[1;33m:\u001b[0m\u001b[1;33m\u001b[0m\u001b[1;33m\u001b[0m\u001b[0m\n",
      "\u001b[1;32mpandas\\_libs\\index.pyx\u001b[0m in \u001b[0;36mpandas._libs.index.IndexEngine.get_loc\u001b[1;34m()\u001b[0m\n",
      "\u001b[1;32mpandas\\_libs\\index.pyx\u001b[0m in \u001b[0;36mpandas._libs.index.IndexEngine.get_loc\u001b[1;34m()\u001b[0m\n",
      "\u001b[1;32mpandas\\_libs\\hashtable_class_helper.pxi\u001b[0m in \u001b[0;36mpandas._libs.hashtable.PyObjectHashTable.get_item\u001b[1;34m()\u001b[0m\n",
      "\u001b[1;32mpandas\\_libs\\hashtable_class_helper.pxi\u001b[0m in \u001b[0;36mpandas._libs.hashtable.PyObjectHashTable.get_item\u001b[1;34m()\u001b[0m\n",
      "\u001b[1;31mKeyError\u001b[0m: '2021-03-27'",
      "\nThe above exception was the direct cause of the following exception:\n",
      "\u001b[1;31mKeyError\u001b[0m                                  Traceback (most recent call last)",
      "\u001b[1;32m<ipython-input-60-0c60581a6b25>\u001b[0m in \u001b[0;36m<module>\u001b[1;34m\u001b[0m\n\u001b[1;32m----> 1\u001b[1;33m \u001b[0mdata_intensity\u001b[0m\u001b[1;33m[\u001b[0m\u001b[1;34m'2021-03-27'\u001b[0m\u001b[1;33m]\u001b[0m\u001b[1;33m\u001b[0m\u001b[1;33m\u001b[0m\u001b[0m\n\u001b[0m",
      "\u001b[1;32m~\\anaconda3\\envs\\HMMA238_env\\lib\\site-packages\\pandas\\core\\frame.py\u001b[0m in \u001b[0;36m__getitem__\u001b[1;34m(self, key)\u001b[0m\n\u001b[0;32m   3022\u001b[0m             \u001b[1;32mif\u001b[0m \u001b[0mself\u001b[0m\u001b[1;33m.\u001b[0m\u001b[0mcolumns\u001b[0m\u001b[1;33m.\u001b[0m\u001b[0mnlevels\u001b[0m \u001b[1;33m>\u001b[0m \u001b[1;36m1\u001b[0m\u001b[1;33m:\u001b[0m\u001b[1;33m\u001b[0m\u001b[1;33m\u001b[0m\u001b[0m\n\u001b[0;32m   3023\u001b[0m                 \u001b[1;32mreturn\u001b[0m \u001b[0mself\u001b[0m\u001b[1;33m.\u001b[0m\u001b[0m_getitem_multilevel\u001b[0m\u001b[1;33m(\u001b[0m\u001b[0mkey\u001b[0m\u001b[1;33m)\u001b[0m\u001b[1;33m\u001b[0m\u001b[1;33m\u001b[0m\u001b[0m\n\u001b[1;32m-> 3024\u001b[1;33m             \u001b[0mindexer\u001b[0m \u001b[1;33m=\u001b[0m \u001b[0mself\u001b[0m\u001b[1;33m.\u001b[0m\u001b[0mcolumns\u001b[0m\u001b[1;33m.\u001b[0m\u001b[0mget_loc\u001b[0m\u001b[1;33m(\u001b[0m\u001b[0mkey\u001b[0m\u001b[1;33m)\u001b[0m\u001b[1;33m\u001b[0m\u001b[1;33m\u001b[0m\u001b[0m\n\u001b[0m\u001b[0;32m   3025\u001b[0m             \u001b[1;32mif\u001b[0m \u001b[0mis_integer\u001b[0m\u001b[1;33m(\u001b[0m\u001b[0mindexer\u001b[0m\u001b[1;33m)\u001b[0m\u001b[1;33m:\u001b[0m\u001b[1;33m\u001b[0m\u001b[1;33m\u001b[0m\u001b[0m\n\u001b[0;32m   3026\u001b[0m                 \u001b[0mindexer\u001b[0m \u001b[1;33m=\u001b[0m \u001b[1;33m[\u001b[0m\u001b[0mindexer\u001b[0m\u001b[1;33m]\u001b[0m\u001b[1;33m\u001b[0m\u001b[1;33m\u001b[0m\u001b[0m\n",
      "\u001b[1;32m~\\anaconda3\\envs\\HMMA238_env\\lib\\site-packages\\pandas\\core\\indexes\\base.py\u001b[0m in \u001b[0;36mget_loc\u001b[1;34m(self, key, method, tolerance)\u001b[0m\n\u001b[0;32m   3080\u001b[0m                 \u001b[1;32mreturn\u001b[0m \u001b[0mself\u001b[0m\u001b[1;33m.\u001b[0m\u001b[0m_engine\u001b[0m\u001b[1;33m.\u001b[0m\u001b[0mget_loc\u001b[0m\u001b[1;33m(\u001b[0m\u001b[0mcasted_key\u001b[0m\u001b[1;33m)\u001b[0m\u001b[1;33m\u001b[0m\u001b[1;33m\u001b[0m\u001b[0m\n\u001b[0;32m   3081\u001b[0m             \u001b[1;32mexcept\u001b[0m \u001b[0mKeyError\u001b[0m \u001b[1;32mas\u001b[0m \u001b[0merr\u001b[0m\u001b[1;33m:\u001b[0m\u001b[1;33m\u001b[0m\u001b[1;33m\u001b[0m\u001b[0m\n\u001b[1;32m-> 3082\u001b[1;33m                 \u001b[1;32mraise\u001b[0m \u001b[0mKeyError\u001b[0m\u001b[1;33m(\u001b[0m\u001b[0mkey\u001b[0m\u001b[1;33m)\u001b[0m \u001b[1;32mfrom\u001b[0m \u001b[0merr\u001b[0m\u001b[1;33m\u001b[0m\u001b[1;33m\u001b[0m\u001b[0m\n\u001b[0m\u001b[0;32m   3083\u001b[0m \u001b[1;33m\u001b[0m\u001b[0m\n\u001b[0;32m   3084\u001b[0m         \u001b[1;32mif\u001b[0m \u001b[0mtolerance\u001b[0m \u001b[1;32mis\u001b[0m \u001b[1;32mnot\u001b[0m \u001b[1;32mNone\u001b[0m\u001b[1;33m:\u001b[0m\u001b[1;33m\u001b[0m\u001b[1;33m\u001b[0m\u001b[0m\n",
      "\u001b[1;31mKeyError\u001b[0m: '2021-03-27'"
     ]
    }
   ],
   "source": [
    "data_intensity['2021-03-27']"
   ]
  },
  {
   "cell_type": "code",
   "execution_count": 17,
   "metadata": {},
   "outputs": [
    {
     "output_type": "display_data",
     "data": {
      "text/plain": "ToggleButtons(description='Color:', options=('blue', 'red', 'green', 'black'), value='blue')",
      "application/vnd.jupyter.widget-view+json": {
       "version_major": 2,
       "version_minor": 0,
       "model_id": "d578065f96214304a5116e52f1cd689c"
      }
     },
     "metadata": {}
    }
   ],
   "source": [
    "from ipywidgets import widgets\n",
    "\n",
    "color_buttons = widgets.ToggleButtons(\n",
    "    options=['blue', 'red', 'green','black'],\n",
    "    description='Color:',\n",
    ")\n",
    "color_buttons"
   ]
  },
  {
   "cell_type": "code",
   "execution_count": 41,
   "metadata": {},
   "outputs": [
    {
     "output_type": "display_data",
     "data": {
      "text/plain": "ColorPicker(value='#efefef', concise=True, description='curv color:')",
      "application/vnd.jupyter.widget-view+json": {
       "version_major": 2,
       "version_minor": 0,
       "model_id": "00028153c70f4bfbac6237f54aba9833"
      }
     },
     "metadata": {}
    }
   ],
   "source": [
    "color_picker = widgets.ColorPicker(\n",
    "    concise=True,\n",
    "    description='curv color:',\n",
    "    value='#efefef',\n",
    ")\n",
    "color_picker"
   ]
  },
  {
   "cell_type": "code",
   "execution_count": null,
   "metadata": {},
   "outputs": [],
   "source": [
    "import cufflinks as cf\n",
    "color_buttons = widgets.ToggleButtons(\n",
    "    options=['blue', 'red', 'green','black'],\n",
    "    description='Color:',\n",
    ")\n",
    "color_buttons"
   ]
  },
  {
   "source": [
    "##### In this part we have three animation tools.\n",
    "\n",
    "\n",
    "##### - Contage point: allows  to choose the desired count point.\n",
    "##### - Day_month: ‘d’ is the default, and ‘m’ is the average intensity per month.\n",
    "##### - Efefef: allows to choose the color of the curve ‘code efefef‘ "
   ],
   "cell_type": "markdown",
   "metadata": {}
  },
  {
   "cell_type": "code",
   "execution_count": 57,
   "metadata": {},
   "outputs": [
    {
     "output_type": "display_data",
     "data": {
      "text/plain": "interactive(children=(Dropdown(description='count_point', options=('Celleneuve', 'Lattes2', 'Berracasa', 'Lavé…",
      "application/vnd.jupyter.widget-view+json": {
       "version_major": 2,
       "version_minor": 0,
       "model_id": "d78286753c1a4f76a5487bf5eef5fa3d"
      }
     },
     "metadata": {}
    },
    {
     "output_type": "execute_result",
     "data": {
      "text/plain": [
       "<function __main__.Intenity_visualisation(count_point='latte1', day_month='d', efefef='red', start_date='2020-12-15', end_date='2021-04-01')>"
      ]
     },
     "metadata": {},
     "execution_count": 57
    }
   ],
   "source": [
    "\n",
    "\n",
    "def Intenity_visualisation( count_point ='latte1', day_month='d', efefef='red', start_date='2020-12-15', end_date='2021-04-01'):\n",
    "\n",
    "  \n",
    "    fig, ax = plt.subplots(1, 1, figsize=(12, 6))\n",
    "\n",
    "    ax.plot(data_intensity[count_point].resample( day_month ).mean(), '-*',color= efefef )\n",
    "    \n",
    "    plt.xlabel('Time serie')\n",
    "    plt.ylabel('Intensity')\n",
    "    plt.title(\"intensity of bikes\")\n",
    "    plt.tight_layout()\n",
    "    plt.show()\n",
    "\n",
    "\n",
    "interact(Intenity_visualisation ,\n",
    "                                count_point=['Celleneuve', 'Lattes2', 'Berracasa', 'Lavérune','Lattes1',                                                            'Vieille_poste', 'Gerhardt', 'Tanneurs','Delmas1', 'Delmas2'] , \n",
    "                                day_month=['d','m'],\n",
    "                                efefef=color_picker,\n",
    "                                start_date=widgets.DatePicker(value=pd.to_datetime('2020-12-15')),\n",
    "                                 end_date=widgets.DatePicker(value=pd.to_datetime('2021-04-01'))\n",
    "                                \n",
    "        )\n"
   ]
  },
  {
   "cell_type": "code",
   "execution_count": 55,
   "metadata": {},
   "outputs": [],
   "source": [
    "def hist( start_date='2020-12-18'):\n",
    "        data_test22[start_date]"
   ]
  },
  {
   "cell_type": "code",
   "execution_count": 56,
   "metadata": {},
   "outputs": [
    {
     "output_type": "display_data",
     "data": {
      "text/plain": "interactive(children=(DatePicker(value=Timestamp('2020-12-15 00:00:00'), description='start_date'), Output()),…",
      "application/vnd.jupyter.widget-view+json": {
       "version_major": 2,
       "version_minor": 0,
       "model_id": "43f10e46352849caa683d528b0cdd704"
      }
     },
     "metadata": {}
    },
    {
     "output_type": "execute_result",
     "data": {
      "text/plain": [
       "<function __main__.hist(start_date='2020-12-18')>"
      ]
     },
     "metadata": {},
     "execution_count": 56
    }
   ],
   "source": [
    "interact(hist,\n",
    "        start_date=widgets.DatePicker(value=pd.to_datetime('2020-12-15')),\n",
    "        end_date=widgets.DatePicker(value=pd.to_datetime('2021-04-01')))"
   ]
  },
  {
   "cell_type": "code",
   "execution_count": null,
   "metadata": {},
   "outputs": [],
   "source": []
  }
 ]
}