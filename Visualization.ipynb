{
 "metadata": {
  "language_info": {
   "codemirror_mode": {
    "name": "ipython",
    "version": 3
   },
   "file_extension": ".py",
   "mimetype": "text/x-python",
   "name": "python",
   "nbconvert_exporter": "python",
   "pygments_lexer": "ipython3",
   "version": "3.8.8"
  },
  "orig_nbformat": 2,
  "kernelspec": {
   "name": "python3",
   "display_name": "Python 3",
   "language": "python"
  }
 },
 "nbformat": 4,
 "nbformat_minor": 2,
 "cells": [
  {
   "source": [
    "\n",
    "\n",
    "\n",
    "\n",
    "cc\n",
    "\n",
    "\n",
    "\n",
    "\n",
    "\n"
   ],
   "cell_type": "markdown",
   "metadata": {}
  },
  {
   "source": [
    "\n",
    "\n",
    "\n",
    "\n",
    "\n",
    "\n"
   ],
   "cell_type": "markdown",
   "metadata": {}
  },
  {
   "cell_type": "code",
   "execution_count": 37,
   "metadata": {},
   "outputs": [
    {
     "output_type": "stream",
     "name": "stdout",
     "text": [
      "3.8.8 (default, Feb 24 2021, 15:54:32) [MSC v.1928 64 bit (AMD64)]\n"
     ]
    }
   ],
   "source": [
    "import sys\n",
    "print(sys.version)"
   ]
  },
  {
   "cell_type": "code",
   "execution_count": 42,
   "metadata": {},
   "outputs": [],
   "source": [
    "import numpy as np\n",
    "import pandas as pd\n",
    "from pandas import DataFrame\n",
    "import seaborn as sns\n",
    "from ipywidgets import interact \n",
    "from matplotlib import pyplot as plt\n",
    "\n",
    "from datetime import datetime\n",
    "\n",
    "import json\n",
    "from pandas import json_normalize\n",
    "\n",
    "from ipywidgets import interact\n",
    "from download import download\n",
    "\n"
   ]
  },
  {
   "source": [
    "\n"
   ],
   "cell_type": "code",
   "metadata": {},
   "execution_count": 41,
   "outputs": []
  },
  {
   "cell_type": "code",
   "execution_count": 43,
   "metadata": {},
   "outputs": [
    {
     "output_type": "stream",
     "name": "stdout",
     "text": [
      "Replace is False and data exists, so doing nothing. Use replace=True to re-download the data.\nReplace is False and data exists, so doing nothing. Use replace=True to re-download the data.\n"
     ]
    },
    {
     "output_type": "execute_result",
     "data": {
      "text/plain": [
       "'./data_visulization/Lattes2.json'"
      ]
     },
     "metadata": {},
     "execution_count": 43
    }
   ],
   "source": [
    "#Database import \n",
    "url = [\n",
    "#Celleneuve\n",
    "    'https://data.montpellier3m.fr/sites/default/files/ressources/MMM_EcoCompt_X2H20042633_archive.json',\n",
    "#Lattes 2\n",
    "    'https://data.montpellier3m.fr/sites/default/files/ressources/MMM_EcoCompt_X2H20042634_archive.json',\n",
    "#Berracasa\n",
    "    'https://data.montpellier3m.fr/sites/default/files/ressources/MMM_EcoCompt_X2H19070220_archive.json',\n",
    "#Lavérune\n",
    "    'https://data.montpellier3m.fr/sites/default/files/ressources/MMM_EcoCompt_X2H20042632_archive.json',\n",
    "#Lattes 1\n",
    "    'https://data.montpellier3m.fr/sites/default/files/ressources/MMM_EcoCompt_X2H20042635_archive.json',\n",
    "#Vieille poste\n",
    "    'https://data.montpellier3m.fr/sites/default/files/ressources/MMM_EcoCompt_X2H20063161_archive.json',\n",
    "#Gerhardt\n",
    "    'https://data.montpellier3m.fr/sites/default/files/ressources/MMM_EcoCompt_X2H20063162_archive.json',\n",
    "#Tanneurs\n",
    "    'https://data.montpellier3m.fr/sites/default/files/ressources/MMM_EcoCompt_XTH19101158_archive.json',\n",
    "#Delmas 1\n",
    "    'https://data.montpellier3m.fr/sites/default/files/ressources/MMM_EcoCompt_X2H20063163_archive.json',\n",
    "#Delmas 2\n",
    "    'https://data.montpellier3m.fr/sites/default/files/ressources/MMM_EcoCompt_X2H20063164_archive.json',\n",
    "]\n",
    "\n",
    "path_target0 = \"./data_visulization/Celleneuve.json\"\n",
    "path_target1 = \"./data_visulization/Lattes2.json\"\n",
    "download(url[0], path_target0, replace=False)\n",
    "download(url[1], path_target1, replace=False)\n",
    "\n"
   ]
  },
  {
   "cell_type": "code",
   "execution_count": 44,
   "metadata": {},
   "outputs": [],
   "source": [
    "#Read .Json data as dataframe\n",
    "bike_traffic_df1 = pd.read_json('./data_visulization/Celleneuve.json', lines=True)\n",
    "bike_traffic_df2 = pd.read_json('./data_visulization/lattes2.json', lines=True)\n",
    "#bike_traffic_df1 = pd.read_json('bike_traffic1.json', lines=True)\n",
    "#bike_traffic_df2 = pd.read_json('bike_traffic.json', lines=True)\n",
    "\n",
    "#Display of the first lines\n",
    "#bike_traffic_df1.head(n=3)\n",
    "#bike_traffic_df2.head(n=2)\n",
    "\n"
   ]
  },
  {
   "cell_type": "code",
   "execution_count": 45,
   "metadata": {},
   "outputs": [],
   "source": [
    "#-------- \n",
    "from pandas import Series\n",
    "\n",
    "\n",
    "#Split 'dateObserved' column into two columns \n",
    "data_test=bike_traffic_df1.join(bike_traffic_df1['dateObserved'].apply(lambda x: Series(x.split('/'))))\n",
    "data_test=data_test.rename(columns = {0: 'start_of_day', 1: 'end_of_day'}) \n",
    "\n",
    "#replace the 'T' between date and time with a space \n",
    "data_test['end_of_day'] = data_test['end_of_day'].str.replace('T',' ')\n",
    "\n",
    "#Convert to time series \n",
    "time_improved = pd.to_datetime(data_test['end_of_day'] , format='%Y-%m-%d %H:%M:%S')               \n",
    "\n",
    "#Indexing data by 'end_of-day' (time series)\n",
    "data_test['end_of_day'] = time_improved\n",
    "data_test = data_test.set_index(['end_of_day'])"
   ]
  },
  {
   "cell_type": "code",
   "execution_count": 46,
   "metadata": {},
   "outputs": [
    {
     "output_type": "stream",
     "name": "stdout",
     "text": [
      "            Celleneuve  Lattes2\nstartday                       \n2020-12-18        53.0    405.0\n2020-12-19        50.0    450.0\n2020-12-20        44.0    346.0\n2020-12-21        31.0    283.0\n2020-12-22        63.0    484.0\n...                ...      ...\n2021-03-26       148.0    783.0\n2021-03-27       110.0    645.0\n2021-03-28       110.0    454.0\n2021-03-29       112.0    425.0\n2021-03-30       129.0      NaN\n\n[103 rows x 2 columns]\n"
     ]
    }
   ],
   "source": [
    "\n",
    "# Rename intensity column by position name\n",
    "bike_traffic_df=bike_traffic_df1.rename(columns = {'intensity': 'Celleneuve'})\n",
    "bike_traffic_df1=bike_traffic_df2.rename(columns = {'intensity': 'Lattes2'}) \n",
    "\n",
    "#Extract the renamed columns, and combine them into a new dataframe \n",
    "data_test22 = pd.DataFrame([bike_traffic_df['Celleneuve'], bike_traffic_df1['Lattes2']])\n",
    "data_test22=data_test22.T\n",
    "\n",
    "#Indexing neww data by 'end_of-day' (time series)\n",
    "data_test22['startday'] = time_improved\n",
    "data_test22 = data_test22.set_index(['startday'])\n",
    "print(data_test22)\n"
   ]
  },
  {
   "cell_type": "code",
   "execution_count": 47,
   "metadata": {},
   "outputs": [
    {
     "output_type": "display_data",
     "data": {
      "text/plain": "interactive(children=(Dropdown(description='pos', options=('Celleneuve', 'Lattes2'), value='Celleneuve'), Drop…",
      "application/vnd.jupyter.widget-view+json": {
       "version_major": 2,
       "version_minor": 0,
       "model_id": "cac2d94a70de4deabf17bedcb87571e0"
      }
     },
     "metadata": {}
    },
    {
     "output_type": "execute_result",
     "data": {
      "text/plain": [
       "<function __main__.hist_explore(pos='latte1', alpha='d', bw=1)>"
      ]
     },
     "metadata": {},
     "execution_count": 47
    }
   ],
   "source": [
    "\n",
    "def hist_explore( pos ='latte1', alpha = 'd', bw=1 ):\n",
    "\n",
    "  \n",
    "    fig, ax = plt.subplots(1, 1, figsize=(12, 6))\n",
    "\n",
    "    ax.plot(data_test22[pos].resample( alpha ).mean(), '-*')\n",
    "    #ax.hist(df_titanic['Age'], density=density,\n",
    "            #bins=n_bins, alpha=alpha)  # standardization\n",
    "    plt.xlabel('Age')\n",
    "    plt.ylabel('Density level')\n",
    "    plt.title(\"Histogram for passengers age\")\n",
    "    plt.tight_layout()\n",
    "    plt.show()\n",
    "\n",
    "\n",
    "interact(hist_explore ,pos=['Celleneuve','Lattes2'] ,alpha=['d','m'],bw=(1, 6, 1))"
   ]
  },
  {
   "cell_type": "code",
   "execution_count": null,
   "metadata": {},
   "outputs": [],
   "source": []
  }
 ]
}