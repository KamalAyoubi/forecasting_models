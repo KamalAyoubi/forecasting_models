{
 "metadata": {
  "language_info": {
   "codemirror_mode": {
    "name": "ipython",
    "version": 3
   },
   "file_extension": ".py",
   "mimetype": "text/x-python",
   "name": "python",
   "nbconvert_exporter": "python",
   "pygments_lexer": "ipython3",
   "version": "3.8.8"
  },
  "orig_nbformat": 2,
  "kernelspec": {
   "name": "python3",
   "display_name": "Python 3",
   "language": "python"
  }
 },
 "nbformat": 4,
 "nbformat_minor": 2,
 "cells": [
  {
   "source": [
    "#Visualization of the intensity curve of bikes from 10 eco-meters placed in Montpellier \n",
    "\n",
    "    Our objective for this part is to visualize the intensity of the bicycles passing a contage point in 10 deferens position in Montpellier.\n",
    "\n",
    "    In our dataset, the bicycles are counted every day. we will consider the date of the end of days (which would be the start of the next day)\n",
    "\n",
    "    For each count point, we will plot the intensity variation curve as a function of time (days)\n",
    "\n",
    "    To achieve our goal, we start with several transformations and manipulations on the raw databases, and finish by programming a widgets in which we can choose the desired position (between the 10 count points). "
   ],
   "cell_type": "markdown",
   "metadata": {}
  },
  {
   "source": [
    "\n",
    "\n",
    "\n",
    "\n",
    "\n",
    "\n"
   ],
   "cell_type": "markdown",
   "metadata": {}
  },
  {
   "cell_type": "code",
   "execution_count": 88,
   "metadata": {},
   "outputs": [
    {
     "output_type": "stream",
     "name": "stdout",
     "text": [
      "3.8.8 (default, Feb 24 2021, 15:54:32) [MSC v.1928 64 bit (AMD64)]\n"
     ]
    }
   ],
   "source": [
    "import sys\n",
    "print(sys.version)"
   ]
  },
  {
   "cell_type": "code",
   "execution_count": 89,
   "metadata": {},
   "outputs": [],
   "source": [
    "import numpy as np\n",
    "import pandas as pd\n",
    "from pandas import DataFrame\n",
    "from matplotlib import pyplot as plt\n",
    "import json\n",
    "from pandas import json_normalize\n",
    "from ipywidgets import interact\n",
    "from download import download\n",
    "\n"
   ]
  },
  {
   "source": [
    "\n"
   ],
   "cell_type": "code",
   "metadata": {},
   "execution_count": 89,
   "outputs": []
  },
  {
   "cell_type": "code",
   "execution_count": 51,
   "metadata": {},
   "outputs": [
    {
     "output_type": "stream",
     "name": "stdout",
     "text": [
      "Replace is False and data exists, so doing nothing. Use replace=True to re-download the data.\n",
      "Replace is False and data exists, so doing nothing. Use replace=True to re-download the data.\n",
      "Downloading data from https://data.montpellier3m.fr/sites/default/files/ressources/MMM_EcoCompt_X2H19070220_archive.json (29 kB)\n",
      "\n",
      "file_sizes: 100%|███████████████████████████| 29.8k/29.8k [00:00<00:00, 544kB/s]\n",
      "Successfully downloaded file to ./data_visulization/Berracasa.json\n",
      "Downloading data from https://data.montpellier3m.fr/sites/default/files/ressources/MMM_EcoCompt_X2H20042632_archive.json (28 kB)\n",
      "\n",
      "file_sizes: 100%|███████████████████████████| 28.4k/28.4k [00:00<00:00, 430kB/s]\n",
      "Successfully downloaded file to ./data_visulization/Lavérune.json\n",
      "Downloading data from https://data.montpellier3m.fr/sites/default/files/ressources/MMM_EcoCompt_X2H20042635_archive.json (28 kB)\n",
      "\n",
      "file_sizes: 100%|███████████████████████████| 28.6k/28.6k [00:00<00:00, 591kB/s]\n",
      "Successfully downloaded file to ./data_visulization/Lattes1.json\n",
      "Downloading data from https://data.montpellier3m.fr/sites/default/files/ressources/MMM_EcoCompt_X2H20063161_archive.json (28 kB)\n",
      "\n",
      "file_sizes: 100%|███████████████████████████| 29.0k/29.0k [00:00<00:00, 712kB/s]\n",
      "Successfully downloaded file to ./data_visulization/Vieille_poste.json\n",
      "Downloading data from https://data.montpellier3m.fr/sites/default/files/ressources/MMM_EcoCompt_X2H20063162_archive.json (28 kB)\n",
      "\n",
      "file_sizes: 100%|███████████████████████████| 29.0k/29.0k [00:00<00:00, 509kB/s]\n",
      "Successfully downloaded file to ./data_visulization/Gerhardt.json\n",
      "Downloading data from https://data.montpellier3m.fr/sites/default/files/ressources/MMM_EcoCompt_XTH19101158_archive.json (30 kB)\n",
      "\n",
      "file_sizes: 100%|███████████████████████████| 30.6k/30.6k [00:00<00:00, 529kB/s]\n",
      "Successfully downloaded file to ./data_visulization/Tanneurs.json\n",
      "Downloading data from https://data.montpellier3m.fr/sites/default/files/ressources/MMM_EcoCompt_X2H20063163_archive.json (23 kB)\n",
      "\n",
      "file_sizes: 100%|███████████████████████████| 23.4k/23.4k [00:00<00:00, 492kB/s]\n",
      "Successfully downloaded file to ./data_visulization/Delmas1.json\n",
      "Downloading data from https://data.montpellier3m.fr/sites/default/files/ressources/MMM_EcoCompt_X2H20063164_archive.json (24 kB)\n",
      "\n",
      "file_sizes: 100%|███████████████████████████| 24.7k/24.7k [00:00<00:00, 526kB/s]\n",
      "Successfully downloaded file to ./data_visulization/Delmas2.json\n"
     ]
    },
    {
     "output_type": "execute_result",
     "data": {
      "text/plain": [
       "'./data_visulization/Delmas2.json'"
      ]
     },
     "metadata": {},
     "execution_count": 51
    }
   ],
   "source": [
    "#Database import \n",
    "url = [\n",
    "#Celleneuve\n",
    "    'https://data.montpellier3m.fr/sites/default/files/ressources/MMM_EcoCompt_X2H20042633_archive.json',\n",
    "#Lattes 2\n",
    "    'https://data.montpellier3m.fr/sites/default/files/ressources/MMM_EcoCompt_X2H20042634_archive.json',\n",
    "#Berracasa\n",
    "    'https://data.montpellier3m.fr/sites/default/files/ressources/MMM_EcoCompt_X2H19070220_archive.json',\n",
    "#Lavérune\n",
    "    'https://data.montpellier3m.fr/sites/default/files/ressources/MMM_EcoCompt_X2H20042632_archive.json',\n",
    "#Lattes 1\n",
    "    'https://data.montpellier3m.fr/sites/default/files/ressources/MMM_EcoCompt_X2H20042635_archive.json',\n",
    "#Vieille poste\n",
    "    'https://data.montpellier3m.fr/sites/default/files/ressources/MMM_EcoCompt_X2H20063161_archive.json',\n",
    "#Gerhardt\n",
    "    'https://data.montpellier3m.fr/sites/default/files/ressources/MMM_EcoCompt_X2H20063162_archive.json',\n",
    "#Tanneurs\n",
    "    'https://data.montpellier3m.fr/sites/default/files/ressources/MMM_EcoCompt_XTH19101158_archive.json',\n",
    "#Delmas 1\n",
    "    'https://data.montpellier3m.fr/sites/default/files/ressources/MMM_EcoCompt_X2H20063163_archive.json',\n",
    "#Delmas 2\n",
    "    'https://data.montpellier3m.fr/sites/default/files/ressources/MMM_EcoCompt_X2H20063164_archive.json',\n",
    "]\n",
    "\n",
    "\n",
    "\n",
    "download(url[0], \"./data_visulization/Celleneuve.json\", replace=False)\n",
    "download(url[1], \"./data_visulization/Lattes2.json\", replace=False)\n",
    "download(url[2], \"./data_visulization/Berracasa.json\", replace=False)\n",
    "download(url[3], \"./data_visulization/Lavérune.json\", replace=False)\n",
    "download(url[4], \"./data_visulization/Lattes1.json\", replace=False)\n",
    "download(url[5], \"./data_visulization/Vieille_poste.json\", replace=False)\n",
    "download(url[6], \"./data_visulization/Gerhardt.json\", replace=False)\n",
    "download(url[7], \"./data_visulization/Tanneurs.json\", replace=False)\n",
    "download(url[8], \"./data_visulization/Delmas1.json\", replace=False)\n",
    "download(url[9], \"./data_visulization/Delmas2.json\", replace=False)\n",
    "\n"
   ]
  },
  {
   "cell_type": "code",
   "execution_count": 95,
   "metadata": {},
   "outputs": [],
   "source": [
    "#Read .Json data as dataframe\n",
    "bike_traffic_df1 = pd.read_json('./data_visulization/Celleneuve.json', lines=True)\n",
    "bike_traffic_df2 = pd.read_json('./data_visulization/lattes2.json', lines=True)\n",
    "bike_traffic_df3 = pd.read_json('./data_visulization/Berracasa.json', lines=True)\n",
    "bike_traffic_df4 = pd.read_json('./data_visulization/Lavérune.json', lines=True)\n",
    "bike_traffic_df5 = pd.read_json('./data_visulization/Lattes1.json', lines=True)\n",
    "bike_traffic_df6 = pd.read_json('./data_visulization/Vieille_poste.json', lines=True)\n",
    "bike_traffic_df7 = pd.read_json('./data_visulization/Gerhardt.json', lines=True)\n",
    "bike_traffic_df8 = pd.read_json('./data_visulization/Tanneurs.json', lines=True)\n",
    "bike_traffic_df9 = pd.read_json('./data_visulization/Delmas1.json', lines=True)\n",
    "bike_traffic_df10 = pd.read_json('./data_visulization/Delmas2.json', lines=True)\n",
    "\n"
   ]
  },
  {
   "cell_type": "code",
   "execution_count": 96,
   "metadata": {},
   "outputs": [],
   "source": [
    "#-------- \n",
    "from pandas import Series\n",
    "\n",
    "\n",
    "#Split 'dateObserved' column into two columns \n",
    "data_test=bike_traffic_df1.join(bike_traffic_df1['dateObserved'].apply(lambda x: Series(x.split('/'))))\n",
    "data_test=data_test.rename(columns = {0: 'start_of_day', 1: 'end_of_day'}) \n",
    "\n",
    "#replace the 'T' between date and time with a space \n",
    "data_test['end_of_day'] = data_test['end_of_day'].str.replace('T',' ')\n",
    "\n",
    "#Convert to time series \n",
    "time_improved = pd.to_datetime(data_test['end_of_day'] , format='%Y-%m-%d %H:%M:%S')               \n",
    "\n",
    "#Indexing data by 'end_of-day' (time series)\n",
    "data_test['end_of_day'] = time_improved\n",
    "data_test = data_test.set_index(['end_of_day'])"
   ]
  },
  {
   "cell_type": "code",
   "execution_count": 97,
   "metadata": {},
   "outputs": [
    {
     "output_type": "stream",
     "name": "stdout",
     "text": [
      "            Celleneuve  Lattes2  Berracasa  Lavérune  Lattes1  Vieille_poste\nstartday                                                                    \n2020-12-18        53.0    405.0      524.0      69.0    158.0          127.0\n2020-12-19        50.0    450.0      610.0      67.0    167.0          124.0\n2020-12-20        44.0    346.0      610.0     130.0    235.0           53.0\n2020-12-21        31.0    283.0      435.0     119.0    152.0           48.0\n2020-12-22        63.0    484.0      852.0     208.0    314.0          141.0\n...                ...      ...        ...       ...      ...            ...\n2021-03-27       110.0    645.0     1398.0     168.0    389.0          235.0\n2021-03-28       110.0    454.0     1559.0     408.0    795.0          155.0\n2021-03-29       112.0    425.0        NaN     537.0   1091.0          129.0\n2021-03-30       129.0      NaN        NaN     270.0    536.0          328.0\nNaT                NaN      NaN        NaN     355.0    659.0          326.0\n\n[104 rows x 6 columns]\n"
     ]
    }
   ],
   "source": [
    "# Rename intensity column by position name\n",
    "bike_traffic_df1=bike_traffic_df1.rename(columns = {'intensity': 'Celleneuve'})\n",
    "bike_traffic_df2=bike_traffic_df2.rename(columns = {'intensity': 'Lattes2'}) \n",
    "bike_traffic_df3=bike_traffic_df3.rename(columns = {'intensity': 'Berracasa'}) \n",
    "bike_traffic_df4=bike_traffic_df4.rename(columns = {'intensity': 'Lavérune'}) \n",
    "bike_traffic_df5=bike_traffic_df5.rename(columns = {'intensity': 'Lattes1'}) \n",
    "bike_traffic_df6=bike_traffic_df6.rename(columns = {'intensity': 'Vieille_poste'}) \n",
    "bike_traffic_df7=bike_traffic_df7.rename(columns = {'intensity': 'Gerhardt'}) \n",
    "bike_traffic_df8=bike_traffic_df8.rename(columns = {'intensity': 'Tanneurs'}) \n",
    "bike_traffic_df9=bike_traffic_df9.rename(columns = {'intensity': 'Delmas1'}) \n",
    "bike_traffic_df10=bike_traffic_df10.rename(columns = {'intensity': 'Delmas2'}) \n",
    "\n",
    "#Extract the renamed columns, and combine them into a new dataframe \n",
    "data_test22 = pd.DataFrame((bike_traffic_df1['Celleneuve'], bike_traffic_df2['Lattes2'],bike_traffic_df3['Berracasa'],bike_traffic_df4['Lavérune'],bike_traffic_df5['Lattes1'],bike_traffic_df6['Vieille_poste']))\n",
    "data_test22=data_test22.T\n",
    "\n",
    "#Indexing neww data by 'end_of-day' (time series)\n",
    "data_test22['startday'] = time_improved\n",
    "data_test22 = data_test22.set_index(['startday'])\n",
    "print(data_test22)\n",
    "\n",
    "\n"
   ]
  },
  {
   "cell_type": "code",
   "execution_count": 98,
   "metadata": {},
   "outputs": [
    {
     "output_type": "display_data",
     "data": {
      "text/plain": "interactive(children=(Dropdown(description='pos', options=('Celleneuve', 'Lattes2', 'Berracasa', 'Lavérune', '…",
      "application/vnd.jupyter.widget-view+json": {
       "version_major": 2,
       "version_minor": 0,
       "model_id": "a5f1174f60b340a18ee0e80555a3bc96"
      }
     },
     "metadata": {}
    },
    {
     "output_type": "execute_result",
     "data": {
      "text/plain": [
       "<function __main__.hist_explore(pos='latte1', bw=1)>"
      ]
     },
     "metadata": {},
     "execution_count": 98
    }
   ],
   "source": [
    "\n",
    "\n",
    "def hist_explore( pos ='latte1', bw=1 ):\n",
    "\n",
    "  \n",
    "    fig, ax = plt.subplots(1, 1, figsize=(12, 6))\n",
    "\n",
    "    ax.plot(data_test22[pos])\n",
    "    \n",
    "    plt.xlabel('Age')\n",
    "    plt.ylabel('Density level')\n",
    "    plt.title(\"Histogram for passengers age\")\n",
    "    plt.tight_layout()\n",
    "    plt.show()\n",
    "\n",
    "\n",
    "interact(hist_explore ,pos=['Celleneuve', 'Lattes2', 'Berracasa', 'Lavérune','Lattes1', 'Vieille_poste', 'Gerhardt', 'Tanneurs','Delmas1', 'Delmas2'] ,bw=(1, 6, 1))\n"
   ]
  },
  {
   "cell_type": "code",
   "execution_count": null,
   "metadata": {},
   "outputs": [],
   "source": []
  }
 ]
}