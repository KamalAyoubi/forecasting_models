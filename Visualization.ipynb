{
 "metadata": {
  "language_info": {
   "codemirror_mode": {
    "name": "ipython",
    "version": 3
   },
   "file_extension": ".py",
   "mimetype": "text/x-python",
   "name": "python",
   "nbconvert_exporter": "python",
   "pygments_lexer": "ipython3",
   "version": "3.8.5"
  },
  "orig_nbformat": 2,
  "kernelspec": {
   "name": "python3",
   "display_name": "Python 3",
   "language": "python"
  }
 },
 "nbformat": 4,
 "nbformat_minor": 2,
 "cells": [
  {
   "source": [
    "\n",
    "\n",
    "\n",
    "\n",
    "cc\n",
    "\n",
    "\n",
    "\n",
    "\n",
    "\n"
   ],
   "cell_type": "markdown",
   "metadata": {}
  },
  {
   "source": [
    "\n",
    "\n",
    "\n",
    "\n",
    "\n",
    "\n"
   ],
   "cell_type": "markdown",
   "metadata": {}
  },
  {
   "cell_type": "code",
   "execution_count": 27,
   "metadata": {},
   "outputs": [
    {
     "output_type": "stream",
     "name": "stdout",
     "text": [
      "3.8.5 (default, Sep  3 2020, 21:29:08) [MSC v.1916 64 bit (AMD64)]\n"
     ]
    }
   ],
   "source": [
    "import sys\n",
    "\n",
    "print(sys.version)"
   ]
  },
  {
   "cell_type": "code",
   "execution_count": 16,
   "metadata": {},
   "outputs": [],
   "source": [
    "import numpy as np\n",
    "import pandas as pd\n",
    "from pandas import DataFrame\n",
    "import seaborn as sns\n",
    "from ipywidgets import interact \n",
    "from matplotlib import pyplot as plt\n",
    "\n",
    "from datetime import datetime\n",
    "from scipy import stats as st\n",
    "import json\n",
    "from pandas import json_normalize\n",
    "from ipywidgets import interact\n",
    "\n"
   ]
  },
  {
   "cell_type": "code",
   "execution_count": 32,
   "metadata": {},
   "outputs": [
    {
     "output_type": "error",
     "ename": "ModuleNotFoundError",
     "evalue": "No module named 'download'",
     "traceback": [
      "\u001b[1;31m---------------------------------------------------------------------------\u001b[0m",
      "\u001b[1;31mModuleNotFoundError\u001b[0m                       Traceback (most recent call last)",
      "\u001b[1;32m<ipython-input-32-0490298f580e>\u001b[0m in \u001b[0;36m<module>\u001b[1;34m\u001b[0m\n\u001b[1;32m----> 1\u001b[1;33m \u001b[1;32mfrom\u001b[0m \u001b[0mdownload\u001b[0m \u001b[1;32mimport\u001b[0m \u001b[0mdownload\u001b[0m\u001b[1;33m\u001b[0m\u001b[1;33m\u001b[0m\u001b[0m\n\u001b[0m\u001b[0;32m      2\u001b[0m \u001b[1;33m\u001b[0m\u001b[0m\n",
      "\u001b[1;31mModuleNotFoundError\u001b[0m: No module named 'download'"
     ]
    }
   ],
   "source": [
    "from download import download\n",
    "\n"
   ]
  },
  {
   "cell_type": "code",
   "execution_count": 8,
   "metadata": {},
   "outputs": [
    {
     "output_type": "error",
     "ename": "NameError",
     "evalue": "name 'download' is not defined",
     "traceback": [
      "\u001b[1;31m---------------------------------------------------------------------------\u001b[0m",
      "\u001b[1;31mNameError\u001b[0m                                 Traceback (most recent call last)",
      "\u001b[1;32m<ipython-input-8-d0ef1fd4d763>\u001b[0m in \u001b[0;36m<module>\u001b[1;34m\u001b[0m\n\u001b[0;32m      9\u001b[0m \u001b[0mpath_target0\u001b[0m \u001b[1;33m=\u001b[0m \u001b[1;34m\"./data_visulization/Celleneuve.json\"\u001b[0m\u001b[1;33m\u001b[0m\u001b[1;33m\u001b[0m\u001b[0m\n\u001b[0;32m     10\u001b[0m \u001b[0mpath_target1\u001b[0m \u001b[1;33m=\u001b[0m \u001b[1;34m\"./data_visulization/Lattes2.json\"\u001b[0m\u001b[1;33m\u001b[0m\u001b[1;33m\u001b[0m\u001b[0m\n\u001b[1;32m---> 11\u001b[1;33m \u001b[0mdownload\u001b[0m\u001b[1;33m(\u001b[0m\u001b[0murl\u001b[0m\u001b[1;33m[\u001b[0m\u001b[1;36m0\u001b[0m\u001b[1;33m]\u001b[0m\u001b[1;33m,\u001b[0m \u001b[0mpath_target0\u001b[0m\u001b[1;33m,\u001b[0m \u001b[0mreplace\u001b[0m\u001b[1;33m=\u001b[0m\u001b[1;32mFalse\u001b[0m\u001b[1;33m)\u001b[0m\u001b[1;33m\u001b[0m\u001b[1;33m\u001b[0m\u001b[0m\n\u001b[0m\u001b[0;32m     12\u001b[0m \u001b[0mdownload\u001b[0m\u001b[1;33m(\u001b[0m\u001b[0murl\u001b[0m\u001b[1;33m[\u001b[0m\u001b[1;36m1\u001b[0m\u001b[1;33m]\u001b[0m\u001b[1;33m,\u001b[0m \u001b[0mpath_target1\u001b[0m\u001b[1;33m,\u001b[0m \u001b[0mreplace\u001b[0m\u001b[1;33m=\u001b[0m\u001b[1;32mFalse\u001b[0m\u001b[1;33m)\u001b[0m\u001b[1;33m\u001b[0m\u001b[1;33m\u001b[0m\u001b[0m\n\u001b[0;32m     13\u001b[0m \u001b[1;33m\u001b[0m\u001b[0m\n",
      "\u001b[1;31mNameError\u001b[0m: name 'download' is not defined"
     ]
    }
   ],
   "source": [
    "#Database import \n",
    "url = [\n",
    "#Celleneuve\n",
    "    'https://data.montpellier3m.fr/sites/default/files/ressources/MMM_EcoCompt_X2H20042633_archive.json',\n",
    "#Lattes2\n",
    "    'https://data.montpellier3m.fr/sites/default/files/ressources/MMM_EcoCompt_X2H20042634_archive.json',\n",
    "]\n",
    "\n",
    "path_target0 = \"./data_visulization/Celleneuve.json\"\n",
    "path_target1 = \"./data_visulization/Lattes2.json\"\n",
    "download(url[0], path_target0, replace=False)\n",
    "download(url[1], path_target1, replace=False)\n",
    "\n"
   ]
  },
  {
   "cell_type": "code",
   "execution_count": 21,
   "metadata": {},
   "outputs": [
    {
     "output_type": "execute_result",
     "data": {
      "text/plain": [
       "   intensity    laneId                             dateObserved  \\\n",
       "0         53  25871951  2020-12-17T00:00:00/2020-12-18T00:00:00   \n",
       "1         50  25871951  2020-12-18T00:00:00/2020-12-19T00:00:00   \n",
       "2         44  25871951  2020-12-19T00:00:00/2020-12-20T00:00:00   \n",
       "\n",
       "                                            location  \\\n",
       "0  {'coordinates': [3.9332700000000003, 43.57926]...   \n",
       "1  {'coordinates': [3.9332700000000003, 43.57926]...   \n",
       "2  {'coordinates': [3.9332700000000003, 43.57926]...   \n",
       "\n",
       "                                      id                 type vehicleType  \\\n",
       "0  MMM_EcoCompt_X2H20042634_202012170000  TrafficFlowObserved     bicycle   \n",
       "1  MMM_EcoCompt_X2H20042634_202012180000  TrafficFlowObserved     bicycle   \n",
       "2  MMM_EcoCompt_X2H20042634_202012190000  TrafficFlowObserved     bicycle   \n",
       "\n",
       "   reversedLane  \n",
       "0         False  \n",
       "1         False  \n",
       "2         False  "
      ],
      "text/html": "<div>\n<style scoped>\n    .dataframe tbody tr th:only-of-type {\n        vertical-align: middle;\n    }\n\n    .dataframe tbody tr th {\n        vertical-align: top;\n    }\n\n    .dataframe thead th {\n        text-align: right;\n    }\n</style>\n<table border=\"1\" class=\"dataframe\">\n  <thead>\n    <tr style=\"text-align: right;\">\n      <th></th>\n      <th>intensity</th>\n      <th>laneId</th>\n      <th>dateObserved</th>\n      <th>location</th>\n      <th>id</th>\n      <th>type</th>\n      <th>vehicleType</th>\n      <th>reversedLane</th>\n    </tr>\n  </thead>\n  <tbody>\n    <tr>\n      <th>0</th>\n      <td>53</td>\n      <td>25871951</td>\n      <td>2020-12-17T00:00:00/2020-12-18T00:00:00</td>\n      <td>{'coordinates': [3.9332700000000003, 43.57926]...</td>\n      <td>MMM_EcoCompt_X2H20042634_202012170000</td>\n      <td>TrafficFlowObserved</td>\n      <td>bicycle</td>\n      <td>False</td>\n    </tr>\n    <tr>\n      <th>1</th>\n      <td>50</td>\n      <td>25871951</td>\n      <td>2020-12-18T00:00:00/2020-12-19T00:00:00</td>\n      <td>{'coordinates': [3.9332700000000003, 43.57926]...</td>\n      <td>MMM_EcoCompt_X2H20042634_202012180000</td>\n      <td>TrafficFlowObserved</td>\n      <td>bicycle</td>\n      <td>False</td>\n    </tr>\n    <tr>\n      <th>2</th>\n      <td>44</td>\n      <td>25871951</td>\n      <td>2020-12-19T00:00:00/2020-12-20T00:00:00</td>\n      <td>{'coordinates': [3.9332700000000003, 43.57926]...</td>\n      <td>MMM_EcoCompt_X2H20042634_202012190000</td>\n      <td>TrafficFlowObserved</td>\n      <td>bicycle</td>\n      <td>False</td>\n    </tr>\n  </tbody>\n</table>\n</div>"
     },
     "metadata": {},
     "execution_count": 21
    }
   ],
   "source": [
    "#Read .Json data as dataframe\n",
    "#bike_traffic_df1 = pd.read_json('Celleneuve.json', lines=True)\n",
    "#bike_traffic_df2 = pd.read_json('Lattes2.json', lines=True)\n",
    "bike_traffic_df1 = pd.read_json('bike_traffic1.json', lines=True)\n",
    "bike_traffic_df2 = pd.read_json('bike_traffic.json', lines=True)\n",
    "\n",
    "#Display of the first 3 lines \n",
    "bike_traffic_df1.head(n=3)\n",
    "#bike_traffic_df2.head(n=2)\n",
    "\n"
   ]
  },
  {
   "cell_type": "code",
   "execution_count": 22,
   "metadata": {},
   "outputs": [],
   "source": [
    "#-------- \n",
    "from pandas import Series\n",
    "\n",
    "\n",
    "#Split 'dateObserved' column into two columns \n",
    "data_test=bike_traffic_df1.join(bike_traffic_df1['dateObserved'].apply(lambda x: Series(x.split('/'))))\n",
    "data_test=data_test.rename(columns = {0: 'start_of_day', 1: 'end_of_day'}) \n",
    "\n",
    "#replace the 'T' between date and time with a space \n",
    "data_test['end_of_day'] = data_test['end_of_day'].str.replace('T',' ')\n",
    "\n",
    "#Convert to time series \n",
    "time_improved = pd.to_datetime(data_test['end_of_day'] , format='%Y-%m-%d %H:%M:%S')               \n",
    "\n",
    "#Indexing data by 'end_of-day' (time series)\n",
    "data_test['end_of_day'] = time_improved\n",
    "data_test = data_test.set_index(['end_of_day'])"
   ]
  },
  {
   "cell_type": "code",
   "execution_count": 23,
   "metadata": {},
   "outputs": [
    {
     "output_type": "stream",
     "name": "stdout",
     "text": [
      "            Celleneuve  Lattes2\nstartday                       \n2020-12-18        53.0    405.0\n2020-12-19        50.0    450.0\n2020-12-20        44.0    346.0\n2020-12-21        31.0    283.0\n2020-12-22        63.0    484.0\n...                ...      ...\n2021-03-26       148.0    783.0\n2021-03-27       110.0    645.0\n2021-03-28       110.0    454.0\n2021-03-29       112.0    425.0\n2021-03-30       129.0      NaN\n\n[103 rows x 2 columns]\n"
     ]
    }
   ],
   "source": [
    "\n",
    "# Rename intensity column by position name\n",
    "bike_traffic_df=bike_traffic_df1.rename(columns = {'intensity': 'Celleneuve'})\n",
    "bike_traffic_df1=bike_traffic_df2.rename(columns = {'intensity': 'Lattes2'}) \n",
    "\n",
    "#Extract the renamed columns, and combine them into a new dataframe \n",
    "data_test22 = pd.DataFrame([bike_traffic_df['Celleneuve'], bike_traffic_df1['Lattes2']])\n",
    "data_test22=data_test22.T\n",
    "\n",
    "#Indexing neww data by 'end_of-day' (time series)\n",
    "data_test22['startday'] = time_improved\n",
    "data_test22 = data_test22.set_index(['startday'])\n",
    "print(data_test22)\n"
   ]
  },
  {
   "cell_type": "code",
   "execution_count": 25,
   "metadata": {},
   "outputs": [
    {
     "output_type": "display_data",
     "data": {
      "text/plain": "interactive(children=(Dropdown(description='pos', options=('Celleneuve', 'Lattes2'), value='Celleneuve'), Drop…",
      "application/vnd.jupyter.widget-view+json": {
       "version_major": 2,
       "version_minor": 0,
       "model_id": "a12fe10ba4d34ced87b8a4e955ca1a9f"
      }
     },
     "metadata": {}
    },
    {
     "output_type": "execute_result",
     "data": {
      "text/plain": [
       "<function __main__.hist_explore(pos='latte1', alpha='d', bw=1)>"
      ]
     },
     "metadata": {},
     "execution_count": 25
    }
   ],
   "source": [
    "\n",
    "def hist_explore( pos ='latte1', alpha = 'd', bw=1 ):\n",
    "\n",
    "  \n",
    "    fig, ax = plt.subplots(1, 1, figsize=(12, 6))\n",
    "\n",
    "    ax.plot(data_test22[pos].resample( alpha ).mean(), '-*')\n",
    "    #ax.hist(df_titanic['Age'], density=density,\n",
    "            #bins=n_bins, alpha=alpha)  # standardization\n",
    "    plt.xlabel('Age')\n",
    "    plt.ylabel('Density level')\n",
    "    plt.title(\"Histogram for passengers age\")\n",
    "    plt.tight_layout()\n",
    "    plt.show()\n",
    "\n",
    "\n",
    "interact(hist_explore ,pos=['Celleneuve','Lattes2'] ,alpha=['d','m'],bw=(1, 6, 1))"
   ]
  },
  {
   "cell_type": "code",
   "execution_count": null,
   "metadata": {},
   "outputs": [],
   "source": []
  }
 ]
}