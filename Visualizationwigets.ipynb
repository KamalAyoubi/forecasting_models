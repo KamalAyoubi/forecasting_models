{
 "metadata": {
  "language_info": {
   "codemirror_mode": {
    "name": "ipython",
    "version": 3
   },
   "file_extension": ".py",
   "mimetype": "text/x-python",
   "name": "python",
   "nbconvert_exporter": "python",
   "pygments_lexer": "ipython3",
   "version": "3.8.5"
  },
  "orig_nbformat": 2,
  "kernelspec": {
   "name": "python385jvsc74a57bd0e1a5cf3782c54aacd863643b517f4f98e7f085a2e52fbc040d346b9d2035587c",
   "display_name": "Python 3.8.5 64-bit ('base': conda)"
  }
 },
 "nbformat": 4,
 "nbformat_minor": 2,
 "cells": [
  {
   "source": [
    "# Visualization of the intensity curve of bikes from 10 eco-meters placed in Montpellier \n",
    "\n",
    " ##### -  Our objective for this part is to visualize the intensity of the bicycles passing a contage point in 10 deferens position in Montpellier.\n",
    "\n",
    " ##### -  In our dataset, the bicycles are counted every day. we will consider the date of the end of days (which would be the start of the next day)\n",
    "\n",
    "##### -   For each count point, we will plot the intensity variation curve as a function of time (days)\n",
    "\n",
    "##### -   To achieve our goal, we start with several transformations and manipulations on the raw databases, and finish by programming a widgets in which we can choose the desired position (between the 10 count points). "
   ],
   "cell_type": "markdown",
   "metadata": {}
  },
  {
   "cell_type": "code",
   "execution_count": 3,
   "metadata": {},
   "outputs": [
    {
     "output_type": "stream",
     "name": "stdout",
     "text": [
      "3.8.5 (default, Sep  3 2020, 21:29:08) [MSC v.1916 64 bit (AMD64)]\n",
      "Requirement already satisfied: matplotlib in c:\\users\\kamal\\anaconda3\\lib\\site-packages (3.3.2)\n",
      "Requirement already satisfied: cycler>=0.10 in c:\\users\\kamal\\anaconda3\\lib\\site-packages (from matplotlib) (0.10.0)\n",
      "Requirement already satisfied: python-dateutil>=2.1 in c:\\users\\kamal\\anaconda3\\lib\\site-packages (from matplotlib) (2.8.1)\n",
      "Requirement already satisfied: numpy>=1.15 in c:\\users\\kamal\\anaconda3\\lib\\site-packages (from matplotlib) (1.19.2)\n",
      "Requirement already satisfied: certifi>=2020.06.20 in c:\\users\\kamal\\anaconda3\\lib\\site-packages (from matplotlib) (2020.6.20)\n",
      "Requirement already satisfied: pyparsing!=2.0.4,!=2.1.2,!=2.1.6,>=2.0.3 in c:\\users\\kamal\\anaconda3\\lib\\site-packages (from matplotlib) (2.4.7)\n",
      "Requirement already satisfied: pillow>=6.2.0 in c:\\users\\kamal\\anaconda3\\lib\\site-packages (from matplotlib) (8.0.1)\n",
      "Requirement already satisfied: kiwisolver>=1.0.1 in c:\\users\\kamal\\anaconda3\\lib\\site-packages (from matplotlib) (1.3.0)\n",
      "Requirement already satisfied: six in c:\\users\\kamal\\anaconda3\\lib\\site-packages (from cycler>=0.10->matplotlib) (1.15.0)\n",
      "Requirement already satisfied: download in c:\\users\\kamal\\anaconda3\\lib\\site-packages (0.3.5)\n",
      "Requirement already satisfied: requests in c:\\users\\kamal\\anaconda3\\lib\\site-packages (from download) (2.24.0)\n",
      "Requirement already satisfied: tqdm in c:\\users\\kamal\\anaconda3\\lib\\site-packages (from download) (4.50.2)\n",
      "Requirement already satisfied: six in c:\\users\\kamal\\anaconda3\\lib\\site-packages (from download) (1.15.0)\n",
      "Requirement already satisfied: certifi>=2017.4.17 in c:\\users\\kamal\\anaconda3\\lib\\site-packages (from requests->download) (2020.6.20)\n",
      "Requirement already satisfied: chardet<4,>=3.0.2 in c:\\users\\kamal\\anaconda3\\lib\\site-packages (from requests->download) (3.0.4)\n",
      "Requirement already satisfied: urllib3!=1.25.0,!=1.25.1,<1.26,>=1.21.1 in c:\\users\\kamal\\anaconda3\\lib\\site-packages (from requests->download) (1.25.11)\n",
      "Requirement already satisfied: idna<3,>=2.5 in c:\\users\\kamal\\anaconda3\\lib\\site-packages (from requests->download) (2.10)\n"
     ]
    }
   ],
   "source": [
    "import sys\n",
    "print(sys.version)\n",
    "!pip install matplotlib\n",
    "!pip install download"
   ]
  },
  {
   "cell_type": "code",
   "execution_count": 4,
   "metadata": {},
   "outputs": [],
   "source": [
    "import pandas as pd\n",
    "from pandas import DataFrame\n",
    "import json\n",
    "from pandas import json_normalize\n",
    "import matplotlib.pyplot as plt\n",
    "from ipywidgets import interact\n",
    "from download import download\n",
    "from ipywidgets import widgets\n"
   ]
  },
  {
   "source": [
    "##### - Import of databases from each count point, and store them in file.\n",
    "\n",
    "Data sources: \n",
    "http://data.montpellier3m.fr/dataset/comptages-velo-et-pieton-issus-des-eco-compteurs/resource/75f5e367-99fb-482f-ba5c\n"
   ],
   "cell_type": "markdown",
   "metadata": {}
  },
  {
   "cell_type": "code",
   "execution_count": 3,
   "metadata": {},
   "outputs": [
    {
     "output_type": "stream",
     "name": "stdout",
     "text": [
      "Replace is False and data exists, so doing nothing. Use replace=True to re-download the data.\nReplace is False and data exists, so doing nothing. Use replace=True to re-download the data.\nReplace is False and data exists, so doing nothing. Use replace=True to re-download the data.\nReplace is False and data exists, so doing nothing. Use replace=True to re-download the data.\nReplace is False and data exists, so doing nothing. Use replace=True to re-download the data.\nReplace is False and data exists, so doing nothing. Use replace=True to re-download the data.\nReplace is False and data exists, so doing nothing. Use replace=True to re-download the data.\nReplace is False and data exists, so doing nothing. Use replace=True to re-download the data.\nReplace is False and data exists, so doing nothing. Use replace=True to re-download the data.\nReplace is False and data exists, so doing nothing. Use replace=True to re-download the data.\n"
     ]
    },
    {
     "output_type": "execute_result",
     "data": {
      "text/plain": [
       "'./data_visulization/Delmas2.json'"
      ]
     },
     "metadata": {},
     "execution_count": 3
    }
   ],
   "source": [
    "#Database import \n",
    "url = [\n",
    "#Celleneuve\n",
    "    'https://data.montpellier3m.fr/sites/default/files/ressources/MMM_EcoCompt_X2H20042633_archive.json',\n",
    "#Lattes 2\n",
    "    'https://data.montpellier3m.fr/sites/default/files/ressources/MMM_EcoCompt_X2H20042634_archive.json',\n",
    "#Berracasa\n",
    "    'https://data.montpellier3m.fr/sites/default/files/ressources/MMM_EcoCompt_X2H19070220_archive.json',\n",
    "#Lavérune\n",
    "    'https://data.montpellier3m.fr/sites/default/files/ressources/MMM_EcoCompt_X2H20042632_archive.json',\n",
    "#Lattes 1\n",
    "    'https://data.montpellier3m.fr/sites/default/files/ressources/MMM_EcoCompt_X2H20042635_archive.json',\n",
    "#Vieille poste\n",
    "    'https://data.montpellier3m.fr/sites/default/files/ressources/MMM_EcoCompt_X2H20063161_archive.json',\n",
    "#Gerhardt\n",
    "    'https://data.montpellier3m.fr/sites/default/files/ressources/MMM_EcoCompt_X2H20063162_archive.json',\n",
    "#Tanneurs\n",
    "    'https://data.montpellier3m.fr/sites/default/files/ressources/MMM_EcoCompt_XTH19101158_archive.json',\n",
    "#Delmas 1\n",
    "    'https://data.montpellier3m.fr/sites/default/files/ressources/MMM_EcoCompt_X2H20063163_archive.json',\n",
    "#Delmas 2\n",
    "    'https://data.montpellier3m.fr/sites/default/files/ressources/MMM_EcoCompt_X2H20063164_archive.json',\n",
    "]\n",
    "\n",
    "\n",
    "\n",
    "download(url[0], \"./data_visulization/Celleneuve.json\", replace=False)\n",
    "download(url[1], \"./data_visulization/Lattes2.json\", replace=False)\n",
    "download(url[2], \"./data_visulization/Berracasa.json\", replace=False)\n",
    "download(url[3], \"./data_visulization/Lavérune.json\", replace=False)\n",
    "download(url[4], \"./data_visulization/Lattes1.json\", replace=False)\n",
    "download(url[5], \"./data_visulization/Vieille_poste.json\", replace=False)\n",
    "download(url[6], \"./data_visulization/Gerhardt.json\", replace=False)\n",
    "download(url[7], \"./data_visulization/Tanneurs.json\", replace=False)\n",
    "download(url[8], \"./data_visulization/Delmas1.json\", replace=False)\n",
    "download(url[9], \"./data_visulization/Delmas2.json\", replace=False)\n",
    "\n"
   ]
  },
  {
   "source": [
    "##### -   Reading datasets as dataframe shape."
   ],
   "cell_type": "markdown",
   "metadata": {}
  },
  {
   "cell_type": "code",
   "execution_count": 5,
   "metadata": {},
   "outputs": [],
   "source": [
    "#Read .Json data as dataframe\n",
    "bike_traffic_df1 = pd.read_json('./data_visulization/Celleneuve.json', lines=True)\n",
    "bike_traffic_df2 = pd.read_json('./data_visulization/lattes2.json', lines=True)\n",
    "bike_traffic_df3 = pd.read_json('./data_visulization/Berracasa.json', lines=True)\n",
    "bike_traffic_df4 = pd.read_json('./data_visulization/Lavérune.json', lines=True)\n",
    "bike_traffic_df5 = pd.read_json('./data_visulization/Lattes1.json', lines=True)\n",
    "bike_traffic_df6 = pd.read_json('./data_visulization/Vieille_poste.json', lines=True)\n",
    "bike_traffic_df7 = pd.read_json('./data_visulization/Gerhardt.json', lines=True)\n",
    "bike_traffic_df8 = pd.read_json('./data_visulization/Tanneurs.json', lines=True)\n",
    "bike_traffic_df9 = pd.read_json('./data_visulization/Delmas1.json', lines=True)\n",
    "bike_traffic_df10 = pd.read_json('./data_visulization/Delmas2.json', lines=True)\n",
    "\n"
   ]
  },
  {
   "source": [
    "##### -   In this part we will extract a time series from one of the dataframe (bike_traffic_df) that contains the longest duration.\n",
    "\n",
    "##### -   The time series will be extracted from the \"dateObserved\" column, we extract the date / time of the end of the day. that allows as to visualize the intensity of bikes over time. \n"
   ],
   "cell_type": "markdown",
   "metadata": {}
  },
  {
   "cell_type": "code",
   "execution_count": 6,
   "metadata": {},
   "outputs": [],
   "source": [
    "#-------- \n",
    "from pandas import Series\n",
    "\n",
    "\n",
    "#Split 'dateObserved' column into two columns \n",
    "data_test=bike_traffic_df5.join(bike_traffic_df5['dateObserved'].apply(lambda x: Series(x.split('/'))))\n",
    "data_test=data_test.rename(columns = {0: 'start_of_day', 1: 'end_of_day'}) \n",
    "\n",
    "#replace the 'T' between date and time with a space \n",
    "data_test['end_of_day'] = data_test['end_of_day'].str.replace('T',' ')\n",
    "\n",
    "#Convert to time series \n",
    "time_improved = pd.to_datetime(data_test['end_of_day'] , format='%Y-%m-%d %H:%M:%S')               \n",
    "\n",
    "#Indexing data by 'end_of-day' (time series)\n",
    "data_test['end_of_day'] = time_improved\n",
    "data_test = data_test.set_index(['end_of_day'])"
   ]
  },
  {
   "source": [
    "##### -    In this part extract the column \"intensity\" in all the databases, and store them a new data frame. \n",
    "\n",
    "##### -   For visualization reasons we will rename the intensity columns by their count point names"
   ],
   "cell_type": "markdown",
   "metadata": {}
  },
  {
   "cell_type": "code",
   "execution_count": 7,
   "metadata": {},
   "outputs": [
    {
     "output_type": "stream",
     "name": "stdout",
     "text": [
      "            Celleneuve  Lattes2  Berracasa  Lavérune  Lattes1  Vieille_poste  \\\nstartday                                                                       \n2020-12-18        53.0    405.0      524.0      69.0    158.0          127.0   \n2020-12-19        50.0    450.0      610.0      67.0    167.0          124.0   \n2020-12-20        44.0    346.0      610.0     130.0    235.0           53.0   \n2020-12-21        31.0    283.0      435.0     119.0    152.0           48.0   \n2020-12-22        63.0    484.0      852.0     208.0    314.0          141.0   \n...                ...      ...        ...       ...      ...            ...   \n2021-03-27       110.0    645.0     1398.0     168.0    389.0          235.0   \n2021-03-28       110.0    454.0     1559.0     408.0    795.0          155.0   \n2021-03-29       112.0    425.0        NaN     537.0   1091.0          129.0   \n2021-03-30       129.0      NaN        NaN     270.0    536.0          328.0   \n2021-03-31         NaN      NaN        NaN     355.0    659.0          326.0   \n\n            Gerhardt  Tanneurs  Delmas1  Delmas2  \nstartday                                          \n2020-12-18     822.0     879.0    485.0     21.0  \n2020-12-19     857.0     971.0    537.0     28.0  \n2020-12-20     622.0     743.0    500.0     37.0  \n2020-12-21     319.0     432.0    332.0     61.0  \n2020-12-22     679.0     861.0    217.0     43.0  \n...              ...       ...      ...      ...  \n2021-03-27    1219.0    1582.0      NaN      NaN  \n2021-03-28     994.0    1291.0      NaN      NaN  \n2021-03-29     525.0     981.0      NaN      NaN  \n2021-03-30    1316.0    1698.0      NaN      NaN  \n2021-03-31    1454.0    1898.0      NaN      NaN  \n\n[104 rows x 10 columns]\n"
     ]
    }
   ],
   "source": [
    "# Rename intensity column by position name\n",
    "bike_traffic_df1=bike_traffic_df1.rename(columns = {'intensity': 'Celleneuve'})\n",
    "bike_traffic_df2=bike_traffic_df2.rename(columns = {'intensity': 'Lattes2'}) \n",
    "bike_traffic_df3=bike_traffic_df3.rename(columns = {'intensity': 'Berracasa'}) \n",
    "bike_traffic_df4=bike_traffic_df4.rename(columns = {'intensity': 'Lavérune'}) \n",
    "bike_traffic_df5=bike_traffic_df5.rename(columns = {'intensity': 'Lattes1'}) \n",
    "bike_traffic_df6=bike_traffic_df6.rename(columns = {'intensity': 'Vieille_poste'}) \n",
    "bike_traffic_df7=bike_traffic_df7.rename(columns = {'intensity': 'Gerhardt'}) \n",
    "bike_traffic_df8=bike_traffic_df8.rename(columns = {'intensity': 'Tanneurs'}) \n",
    "bike_traffic_df9=bike_traffic_df9.rename(columns = {'intensity': 'Delmas1'}) \n",
    "bike_traffic_df10=bike_traffic_df10.rename(columns = {'intensity': 'Delmas2'}) \n",
    "\n",
    "#Extract the renamed columns, and combine them into a new dataframe \n",
    "data_intensity = pd.DataFrame((bike_traffic_df1['Celleneuve'], bike_traffic_df2['Lattes2'],bike_traffic_df3['Berracasa'],bike_traffic_df4['Lavérune'],bike_traffic_df5['Lattes1'],bike_traffic_df6['Vieille_poste'],bike_traffic_df7['Gerhardt'],bike_traffic_df8['Tanneurs'],bike_traffic_df9['Delmas1'],bike_traffic_df10['Delmas2']))\n",
    "data_intensity=data_intensity.T\n",
    "\n",
    "#Indexing neww data by 'end_of-day' (time series)\n",
    "data_intensity['startday'] = time_improved\n",
    "data_intensity = data_intensity.set_index(['startday'])\n",
    "print(data_intensity )\n",
    "\n",
    "\n"
   ]
  },
  {
   "cell_type": "code",
   "execution_count": 8,
   "metadata": {},
   "outputs": [
    {
     "output_type": "display_data",
     "data": {
      "text/plain": "ColorPicker(value='#efefef', concise=True, description='curv color:')",
      "application/vnd.jupyter.widget-view+json": {
       "version_major": 2,
       "version_minor": 0,
       "model_id": "5fecccd993874401bc41319855b8dc75"
      }
     },
     "metadata": {}
    }
   ],
   "source": [
    "color_picker = widgets.ColorPicker(\n",
    "    concise=True,\n",
    "    description='curv color:',\n",
    "    value='#efefef',\n",
    ")\n",
    "color_picker"
   ]
  },
  {
   "cell_type": "code",
   "execution_count": 9,
   "metadata": {},
   "outputs": [
    {
     "output_type": "display_data",
     "data": {
      "text/plain": "ToggleButtons(description='Color:', options=('blue', 'red', 'green', 'black'), value='blue')",
      "application/vnd.jupyter.widget-view+json": {
       "version_major": 2,
       "version_minor": 0,
       "model_id": "d72c690e26914c17bbcf3b96174c6951"
      }
     },
     "metadata": {}
    }
   ],
   "source": [
    "color_buttons = widgets.ToggleButtons(\n",
    "    options=['blue', 'red', 'green','black'],\n",
    "    description='Color:',\n",
    ")\n",
    "color_buttons"
   ]
  },
  {
   "source": [
    "##### In this part we have three animation tools.\n",
    "\n",
    "\n",
    "##### - Contage point: allows  to choose the desired count point.\n",
    "##### - Day_month: ‘d’ is the default, and ‘m’ is the average intensity per month.\n",
    "##### - Efefef: allows to choose the color of the curve ‘code efefef‘ "
   ],
   "cell_type": "markdown",
   "metadata": {}
  },
  {
   "cell_type": "code",
   "execution_count": 10,
   "metadata": {},
   "outputs": [
    {
     "output_type": "display_data",
     "data": {
      "text/plain": "interactive(children=(Dropdown(description='count_point', options=('Celleneuve', 'Lattes2', 'Berracasa', 'Lavé…",
      "application/vnd.jupyter.widget-view+json": {
       "version_major": 2,
       "version_minor": 0,
       "model_id": "6b8830a28fdf4e68ac6bb3b5432a286d"
      }
     },
     "metadata": {}
    },
    {
     "output_type": "execute_result",
     "data": {
      "text/plain": [
       "<function __main__.Intenity_visualisation(count_point='latte1', day_month='d', efefef='red', start_date='2020-12-15', end_date='2021-04-01', color='black')>"
      ]
     },
     "metadata": {},
     "execution_count": 10
    }
   ],
   "source": [
    "\n",
    "\n",
    "def Intenity_visualisation( count_point ='latte1', day_month='d', efefef='red', start_date='2020-12-15', end_date='2021-04-01', color='black'):\n",
    "\n",
    "  \n",
    "    fig, ax = plt.subplots(1, 1, figsize=(12, 6))\n",
    "\n",
    "    data_intensity1=[]\n",
    "    ax.plot(data_intensity[count_point].resample( day_month ).mean(), '-*',color= efefef )\n",
    "    \n",
    "    plt.xlabel('Time serie',color=color)\n",
    "    plt.ylabel('Intensity',color=color)\n",
    "    plt.title(\"intensity of bikes\",color=color)\n",
    "    plt.tight_layout()\n",
    "    plt.show()\n",
    "\n",
    "\n",
    "interact(Intenity_visualisation ,\n",
    "                                count_point=['Celleneuve', 'Lattes2', 'Berracasa', 'Lavérune','Lattes1',                                                            'Vieille_poste', 'Gerhardt', 'Tanneurs','Delmas1', 'Delmas2'] , \n",
    "                                day_month=['d','m'],\n",
    "                                efefef=color_picker,\n",
    "                                start_date=widgets.DatePicker(value=pd.to_datetime('2020-12-15')),\n",
    "                                 end_date=widgets.DatePicker(value=pd.to_datetime('2021-04-01')),\n",
    "                                color=color_buttons \n",
    "        )\n"
   ]
  },
  {
   "cell_type": "code",
   "execution_count": null,
   "metadata": {},
   "outputs": [],
   "source": []
  }
 ]
}